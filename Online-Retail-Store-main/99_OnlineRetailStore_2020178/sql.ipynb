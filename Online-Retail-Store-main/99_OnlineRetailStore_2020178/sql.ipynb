{
 "cells": [
  {
   "cell_type": "code",
   "execution_count": 6,
   "metadata": {},
   "outputs": [],
   "source": [
    "import mysql.connector\n",
    "from mysql.connector import Error\n",
    "import pandas as pd"
   ]
  },
  {
   "cell_type": "code",
   "execution_count": 8,
   "metadata": {},
   "outputs": [
    {
     "name": "stdout",
     "output_type": "stream",
     "text": [
      "Error:'Authentication plugin 'caching_sha2_password' is not supported'\n"
     ]
    }
   ],
   "source": [
    "def create_server_connection(host_name, user_name, user_password):\n",
    "    connection = None\n",
    "    try:\n",
    "        connection = mysql.connector.connect(\n",
    "            host = host_name,\n",
    "            user = user_name,\n",
    "            password = user_password\n",
    "        )\n",
    "        print(\"MySQL Database Connection Successful\")\n",
    "    except Error as err:\n",
    "        print(f\"Error:'{err}'\")\n",
    "    return connection\n",
    "\n",
    "psd = \"Arjun$123\"\n",
    "db = \"99retailstore-data\"\n",
    "connection = create_server_connection(\"localhost\",\"root\",psd)r"
   ]
  },
  {
   "cell_type": "code",
   "execution_count": 12,
   "metadata": {},
   "outputs": [],
   "source": [
    "conn = mysql.connector.connect(user='root', password='Arjun$123',port=3306, host='127.0.0.1',database='retailstore',\n",
    "auth_plugin='mysql_native_password')"
   ]
  },
  {
   "cell_type": "code",
   "execution_count": 16,
   "metadata": {},
   "outputs": [],
   "source": [
    "# Execute SQL queries\n",
    "\n",
    "def execute_query(Connection, query):\n",
    "    '''\n",
    "    summary :\n",
    "        params\n",
    "        return\n",
    "    '''\n",
    "    cursor = connection.cursor()\n",
    "    try:\n",
    "        cursor.execute(query)\n",
    "        connection.commit()\n",
    "        print(\"\\n Query was successful \")\n",
    "    except Error as er:\n",
    "        print(f\"Error:'{er}'\")\n"
   ]
  },
  {
   "attachments": {},
   "cell_type": "markdown",
   "metadata": {},
   "source": [
    "Get all the Tables in Database"
   ]
  },
  {
   "cell_type": "code",
   "execution_count": 17,
   "metadata": {},
   "outputs": [
    {
     "name": "stdout",
     "output_type": "stream",
     "text": [
      "('account',)\n",
      "('category',)\n",
      "('categoryuserview',)\n",
      "('chooses',)\n",
      "('customer',)\n",
      "('employee',)\n",
      "('has',)\n",
      "('has_account',)\n",
      "('has_category',)\n",
      "('has_order',)\n",
      "('has_product',)\n",
      "('has_rating',)\n",
      "('orders',)\n",
      "('product',)\n",
      "('protecteduserview',)\n",
      "('resolve',)\n",
      "('supplier',)\n",
      "('userproductview',)\n"
     ]
    }
   ],
   "source": [
    "# Get a cursor\n",
    "mycursor = conn.cursor()\n",
    "\n",
    "# Execute a SQL query to show all the tables in the database\n",
    "mycursor.execute(\"SHOW TABLES\")\n",
    "\n",
    "# Fetch all the tables\n",
    "tables = mycursor.fetchall()\n",
    "\n",
    "# Print the tables\n",
    "for table in tables:\n",
    "  print(table)"
   ]
  },
  {
   "attachments": {},
   "cell_type": "markdown",
   "metadata": {},
   "source": [
    "Fetching Records from tables "
   ]
  },
  {
   "cell_type": "code",
   "execution_count": null,
   "metadata": {},
   "outputs": [],
   "source": [
    "# Execute a SQL query to select data from a table\n",
    "mycursor.execute(\"SELECT * FROM table_name\")\n",
    "\n",
    "# Fetch all the rows\n",
    "rows = mycursor.fetchall\n",
    "\n",
    "# Print the rows\n",
    "for row in rows:\n",
    "  print(row)"
   ]
  }
 ],
 "metadata": {
  "kernelspec": {
   "display_name": "Python 3",
   "language": "python",
   "name": "python3"
  },
  "language_info": {
   "codemirror_mode": {
    "name": "ipython",
    "version": 3
   },
   "file_extension": ".py",
   "mimetype": "text/x-python",
   "name": "python",
   "nbconvert_exporter": "python",
   "pygments_lexer": "ipython3",
   "version": "3.11.2"
  },
  "orig_nbformat": 4
 },
 "nbformat": 4,
 "nbformat_minor": 2
}
